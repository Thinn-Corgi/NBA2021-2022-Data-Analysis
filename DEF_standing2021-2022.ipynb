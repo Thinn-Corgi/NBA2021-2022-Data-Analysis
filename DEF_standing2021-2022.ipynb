{
 "cells": [
  {
   "cell_type": "code",
   "execution_count": 1,
   "id": "eb51aa30",
   "metadata": {},
   "outputs": [],
   "source": [
    "import requests\n",
    "import pandas as pd\n"
   ]
  },
  {
   "cell_type": "code",
   "execution_count": 2,
   "id": "cc2c8a3e",
   "metadata": {},
   "outputs": [
    {
     "data": {
      "text/plain": [
       "'     \\ndate = \"2021-{}-{}\".format()\\nresult = requests.get(url).text\\ndfs = pd.read_html(result)\\ndf = dfs[0]\\ndf.head()\\ndf.style\\n'"
      ]
     },
     "execution_count": 2,
     "metadata": {},
     "output_type": "execute_result"
    }
   ],
   "source": [
    "\"\"\"\n",
    "#starting date:2021-10-20 days count:112\n",
    "#days in 2021:73 days in 2022:39 days\n",
    "\"\"\"\n",
    "for i in range(73): #2021\n",
    "    month = 10\n",
    "    day = 20\n",
    "    if(day+i-31-30)>0:\n",
    "        month = month+2\n",
    "        day = day+i-31-30\n",
    "        if day < 10:\n",
    "            day = \"0\" + str(day)\n",
    "        date = \"2021-{}-{}\".format(month,day)\n",
    "        url = \"https://www.teamrankings.com/nba/stat/defensive-efficiency?date={}\".format(date)\n",
    "        result = requests.get(url).text\n",
    "        dfs = pd.read_html(result)\n",
    "        df =dfs[0]\n",
    "        df.to_csv(\"DEF_Standing,{}.csv\".format(date), index=False)\n",
    "        \n",
    "\n",
    "    elif (day+i-31)>0:\n",
    "        month = month+1\n",
    "        day = day+i-31\n",
    "        if day < 10:\n",
    "            day = \"0\" + str(day)\n",
    "        date = \"2021-{}-{}\".format(month,day)\n",
    "        url = \"https://www.teamrankings.com/nba/stat/defensive-efficiency?date={}\".format(date)\n",
    "        result = requests.get(url).text\n",
    "        dfs = pd.read_html(result)\n",
    "        df =dfs[0]\n",
    "        df.to_csv(\"DEF_Standing,{}.csv\".format(date), index=False)\n",
    "\n",
    "    else:\n",
    "        day = day+i\n",
    "        if day < 10:\n",
    "            day = \"0\" + str(day)\n",
    "        date = \"2021-{}-{}\".format(month,day)\n",
    "        url = \"https://www.teamrankings.com/nba/stat/defensive-efficiency?date={}\".format(date)\n",
    "        result = requests.get(url).text\n",
    "        dfs = pd.read_html(result)\n",
    "        df =dfs[0]\n",
    "        df.to_csv(\"DEF_Standing,{}.csv\".format(date), index=False)\n",
    "\n",
    "for i in range(39): #2022\n",
    "    month = 1\n",
    "    day = 1\n",
    "    if(day+i-31)>0:\n",
    "        month = month +1\n",
    "        month = \"0\" + str(month)\n",
    "        day = day+i-31\n",
    "        if day < 10:\n",
    "            day = \"0\" + str(day)\n",
    "        date = \"2022-{}-{}\".format(month,day)\n",
    "        url = \"https://www.teamrankings.com/nba/stat/defensive-efficiency?date={}\".format(date)\n",
    "        result = requests.get(url).text\n",
    "        dfs = pd.read_html(result)\n",
    "        df =dfs[0]\n",
    "        df.to_csv(\"DEF_Standing,{}.csv\".format(date), index=False)\n",
    "    else:\n",
    "        month = \"0\" + str(month)\n",
    "        day = day +i\n",
    "        if day < 10:\n",
    "            day = \"0\" + str(day)\n",
    "        date = \"2022-{}-{}\".format(month,day)\n",
    "        url = \"https://www.teamrankings.com/nba/stat/defensive-efficiency?date={}\".format(date)\n",
    "        result = requests.get(url).text\n",
    "        dfs = pd.read_html(result)\n",
    "        df =dfs[0]\n",
    "        df.to_csv(\"DEF_Standing,{}.csv\".format(date), index=False)\n",
    "        \n",
    "\n",
    "\n",
    "  \n",
    "\n",
    "\n",
    "\n",
    "            \n",
    "        \n"
   ]
  }
 ],
 "metadata": {
  "kernelspec": {
   "display_name": "Python 3 (ipykernel)",
   "language": "python",
   "name": "python3"
  },
  "language_info": {
   "codemirror_mode": {
    "name": "ipython",
    "version": 3
   },
   "file_extension": ".py",
   "mimetype": "text/x-python",
   "name": "python",
   "nbconvert_exporter": "python",
   "pygments_lexer": "ipython3",
   "version": "3.9.7"
  }
 },
 "nbformat": 4,
 "nbformat_minor": 5
}
